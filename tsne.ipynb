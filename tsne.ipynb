{
 "cells": [
  {
   "cell_type": "code",
   "execution_count": null,
   "metadata": {
    "vscode": {
     "languageId": "plaintext"
    }
   },
   "outputs": [],
   "source": [
    "import numpy as np\n",
    "import pandas as pd\n",
    "import matplotlib.pyplot as plt\n",
    "from sklearn.manifold import TSNE\n",
    "from sklearn.preprocessing import StandardScaler\n",
    "from sklearn.preprocessing import LabelEncoder"
   ]
  },
  {
   "cell_type": "code",
   "execution_count": null,
   "metadata": {
    "vscode": {
     "languageId": "plaintext"
    }
   },
   "outputs": [],
   "source": [
    "# load dataset to visualize\n",
    "df = pd.read_csv(\"...\")\n",
    "\n",
    "# get class column, numeric features\n",
    "class_col = df.iloc[:, 0].astype(str)  \n",
    "categorical_columns = [col for col in df.columns if \"nonNum\" in col]\n",
    "numeric_features = df.drop(columns=categorical_columns).iloc[:, 1:]\n",
    "\n",
    "# standardize numeric features\n",
    "features = StandardScaler().fit_transform(numeric_features)\n",
    "\n",
    "# apply t-SNE with 2 components\n",
    "tsne = TSNE(n_components=2, perplexity=30, init='pca')\n",
    "tsne_results = tsne.fit_transform(features)\n",
    "\n",
    "# convert to dataframe\n",
    "df_tsne = pd.DataFrame(tsne_results, columns=[\"TSNE1\", \"TSNE2\"])\n",
    "df_tsne[\"Class\"] = class_col.values  \n",
    "\n",
    "# encode class labels \n",
    "label_encoder = LabelEncoder()\n",
    "df_tsne[\"Class_Encoded\"] = label_encoder.fit_transform(class_col)\n",
    "\n",
    "# plot t-SNE\n",
    "plt.figure(figsize=(12, 6))\n",
    "scatter = plt.scatter(df_tsne[\"TSNE1\"], df_tsne[\"TSNE2\"], c=df_tsne[\"Class_Encoded\"], cmap=\"viridis\")\n",
    "plt.colorbar()\n",
    "plt.xlabel(\"TSNE Component 1\")\n",
    "plt.ylabel(\"TSNE Component 2\")\n",
    "plt.title(\"t-SNE Visualization\")\n",
    "\n",
    "# Add legend \n",
    "handles, _ = scatter.legend_elements()\n",
    "legend_labels = label_encoder.classes_\n",
    "plt.legend(handles, legend_labels, title=\"Class\")\n",
    "\n",
    "plt.show()\n",
    "\n"
   ]
  }
 ],
 "metadata": {
  "language_info": {
   "name": "python"
  }
 },
 "nbformat": 4,
 "nbformat_minor": 2
}
